{
 "cells": [
  {
   "cell_type": "code",
   "execution_count": 27,
   "metadata": {},
   "outputs": [],
   "source": [
    "import json\n",
    "import os\n",
    "import pickle\n",
    "import time\n",
    "\n",
    "import csv\n",
    "import seaborn as sns\n",
    "import matplotlib\n",
    "import matplotlib.pyplot as plt\n",
    "import numpy as np\n",
    "import pandas as pd\n",
    "from sklearn import datasets\n",
    "from sklearn.model_selection import train_test_split\n",
    "from sklearn.model_selection import KFold\n",
    "from sklearn.preprocessing import MinMaxScaler\n",
    "from sklearn.preprocessing import LabelEncoder\n",
    "from sklearn.metrics import confusion_matrix\n",
    "from sklearn.metrics import multilabel_confusion_matrix\n",
    "from sklearn import tree\n",
    "from sklearn.ensemble import RandomForestClassifier\n",
    "from sklearn.model_selection import GridSearchCV\n",
    "from sklearn.linear_model import LogisticRegression\n",
    "from sklearn.metrics import auc, roc_curve\n",
    "from sklearn.preprocessing import StandardScaler\n",
    "from sklearn.svm import SVC\n",
    "from sklearn.tree import DecisionTreeClassifier, export_graphviz\n",
    "\n",
    "%matplotlib inline\n",
    "matplotlib.rcParams['figure.figsize'] = 10, 8\n",
    "\n",
    "# from warnings import simplefilter\n",
    "# simplefilter(action='ignore', category=FutureWarning)"
   ]
  },
  {
   "cell_type": "code",
   "execution_count": 76,
   "metadata": {},
   "outputs": [],
   "source": [
    "DIR = '/Users/awang/Documents/OrangeC93'\n",
    "URL = 'https://query.data.world/s/xpasnutccmyrw3waw3svhfsxqy42p4'\n",
    "\n",
    "# Diagnosis (M = malignant, B = benign) \n",
    "df = pd.read_csv(URL)"
   ]
  },
  {
   "cell_type": "raw",
   "metadata": {},
   "source": [
    "1. check Nan Values\n",
    "df.isnull().sum()\n",
    "2. check data typedf\n",
    "df.dtypes()\n",
    "3. check imbalanced if necessary (https://www.samueltaylor.org/static/pdf/class_imbalance.pdf)\n",
    "    a. print(df['diagnosis'].value_counts()/len(df))\n",
    "    b. compare it\n",
    "    c. better metrics\n",
    "    d. be careful with train/test splits"
   ]
  },
  {
   "cell_type": "code",
   "execution_count": 77,
   "metadata": {},
   "outputs": [
    {
     "name": "stdout",
     "output_type": "stream",
     "text": [
      "B    0.627417\n",
      "M    0.372583\n",
      "Name: diagnosis, dtype: float64\n"
     ]
    }
   ],
   "source": [
    "df = df.drop(['id','Unnamed: 32'], axis=1)"
   ]
  },
  {
   "cell_type": "raw",
   "metadata": {
    "slideshow": {
     "slide_type": "slide"
    }
   },
   "source": [
    "Normalization: (from sklearn import reprocessing.normalize)\n",
    "1. Less sensitive to the scale of features, so we can better solve for coefficients. Such as: the number of bedrooms and the median household income.\n",
    "2. The use of a normalization method will improve analysis from multiple models.\n",
    "3. Better condition for convergence. If we were to use any algorithms on this data set before we normalized it would be hard (potentially not possible) to converge the vectors because of the scaling issues. \n",
    "4. But it sensitive to outliers.\n",
    "WHEN TO USE: data should be normalized if there are any predefined assumptions of the model\n",
    "\n",
    "\n",
    "Standardization: (from sklearn import preprocessing.StandardScaler)\n",
    "1. Compare features that have different units or scales. Better shape for large difference in scales and units compared to Normalization.\n",
    "2. Standardizing tends to make the training process well behaved because the numerical condition of the optimization problems is improved. Consider if you’re doing PCA, the output can only be interpreted correctly when the features have first been centred around their means.\n",
    "WHEN TO USE: when you are dealing with multiple variables together\n",
    "\n",
    "\n",
    "Log transformation: (https://stats.stackexchange.com/questions/18844/when-and-why-should-you-take-the-log-of-a-distribution-of-numbers)\n",
    "1. Make the skewed data less skewed (right skewed). 大多数的经济数据都是呈右偏的形态，如收入分布，企业的资产规模，等等，取了对数之后可以一定程度地修正数据的右偏形态，使其更接近于正态。\n",
    "WHEN TO USE: assume a model from that is non-linear but can be transformed to a linear model such as log Y= 𝛽0+𝛽1𝑡. In general whether or not you have causal series , the only time you would be justified or correct in taking the Log of 𝑌 is when it can be proven that the Variance of 𝑌 is proportional to the Expected Value of  \n",
    "\n",
    "\n",
    "Binning"
   ]
  },
  {
   "cell_type": "code",
   "execution_count": 81,
   "metadata": {},
   "outputs": [],
   "source": [
    "def split_xy(data):\n",
    "    ys = ['diagnosis']  \n",
    "    y = pd.DataFrame(data[ys])\n",
    "    X = data.drop(ys, axis=1)\n",
    "\n",
    "    return X, y"
   ]
  },
  {
   "cell_type": "code",
   "execution_count": 82,
   "metadata": {},
   "outputs": [],
   "source": [
    "def transformation(X, y):\n",
    "#     # Encode the categorical data with one-hot encoding\n",
    "#     X = pd.get_dummies(data[features])\n",
    "\n",
    "#     # Standardization(Z-Score): have a mean of zero and a standard deviation of 1\n",
    "\n",
    "#     # Log\n",
    "#     for field in list(X):\n",
    "#         X[f'log_{field}'] = np.log(X[field] + 1)\n",
    "\n",
    "    # Normalization: scale a variable to have a values between 0 and 1\n",
    "    scaler = MinMaxScaler(feature_range=(0, 1))\n",
    "    X = scaler.fit_transform(X)\n",
    "\n",
    "    # Convert unique classes (strings) into integers\n",
    "    encoder = LabelEncoder()\n",
    "    encoder.fit(['B', 'M'])\n",
    "    y = encoder.transform(y)\n",
    "    \n",
    "    return X, y"
   ]
  },
  {
   "cell_type": "code",
   "execution_count": 84,
   "metadata": {},
   "outputs": [
    {
     "name": "stderr",
     "output_type": "stream",
     "text": [
      "/Library/Frameworks/Python.framework/Versions/3.7/lib/python3.7/site-packages/sklearn/preprocessing/label.py:252: DataConversionWarning: A column-vector y was passed when a 1d array was expected. Please change the shape of y to (n_samples, ), for example using ravel().\n",
      "  y = column_or_1d(y, warn=True)\n"
     ]
    }
   ],
   "source": [
    "X, y = split_xy(df)\n",
    "X, y = transformation(X, y)"
   ]
  },
  {
   "cell_type": "code",
   "execution_count": 85,
   "metadata": {},
   "outputs": [],
   "source": [
    "X_train, X_test, y_train, y_test = train_test_split(X, y, test_size=0.2, stratify=y)"
   ]
  },
  {
   "cell_type": "code",
   "execution_count": 68,
   "metadata": {
    "scrolled": true
   },
   "outputs": [
    {
     "name": "stdout",
     "output_type": "stream",
     "text": [
      "Best Penalty: l2\n",
      "Best C: 0.7896522868499725\n",
      "Best Score: 0.9758241758241758\n"
     ]
    }
   ],
   "source": [
    "param_grid = {'penalty' : ['l2'], 'C' : np.logspace(-4, 0, 40)}\n",
    "clf = GridSearchCV(LogisticRegression(solver='lbfgs',\n",
    "                                      class_weight='balanced'), \n",
    "                   param_grid,\n",
    "                   cv=10)\n",
    "best = clf.fit(X_train, y_train)\n",
    "\n",
    "print('Best Penalty:', best.best_estimator_.get_params()['penalty'])\n",
    "print('Best C:', best.best_estimator_.get_params()['C'])\n",
    "print('Best Score:', best.best_score_)"
   ]
  },
  {
   "cell_type": "raw",
   "metadata": {},
   "source": [
    "Metrics\n",
    "1. Recall: 正样本有多少被找出来了（召回了多少）\n",
    "2. Precision: 你认为的正样本里，有多少猜对了（猜的准确性如何）\n",
    "3. F1\n",
    "4. ROC: can be used to evaluate classifier performance when prior probability and miss classification costs are difficult to estimite a prior"
   ]
  },
  {
   "cell_type": "code",
   "execution_count": 69,
   "metadata": {},
   "outputs": [
    {
     "name": "stdout",
     "output_type": "stream",
     "text": [
      "0.9701127819548871\n",
      "0.9574309748222791\n",
      "0.9598025163242555\n",
      "0.9581961650500975\n"
     ]
    },
    {
     "name": "stderr",
     "output_type": "stream",
     "text": [
      "/Library/Frameworks/Python.framework/Versions/3.7/lib/python3.7/site-packages/sklearn/preprocessing/label.py:252: DataConversionWarning: A column-vector y was passed when a 1d array was expected. Please change the shape of y to (n_samples, ), for example using ravel().\n",
      "  y = column_or_1d(y, warn=True)\n"
     ]
    }
   ],
   "source": [
    "scores = []\n",
    "recalls = []\n",
    "precisions = []\n",
    "f1 = []\n",
    "# https://scikit-learn.org/stable/modules/generated/sklearn.linear_model.LogisticRegression.html\n",
    "model = LogisticRegression(C=best.best_estimator_.get_params()['C'],\n",
    "                           solver='lbfgs',\n",
    "                           class_weight='balanced')\n",
    "cv = KFold(n_splits=10, random_state=42, shuffle=False)\n",
    "X, y = load_data()\n",
    "for train_index, test_index in cv.split(X):\n",
    "    X_train, X_test, y_train, y_test = X[train_index],\\\n",
    "                                       X[test_index],\\\n",
    "                                       y[train_index],\\\n",
    "                                       y[test_index]\n",
    "    model.fit(X_train, y_train)\n",
    "    y_pred = model.predict(X_test)\n",
    "    cm = confusion_matrix(y_test, y_pred)\n",
    "    tn, fp, fn, tp = cm.ravel()\n",
    "    acc = sum(np.diag(cm)) / np.sum(cm)\n",
    "    precision = tp / (tp + fp)\n",
    "    recall = tp / (tp + fn)\n",
    "    F1 = 2 * precision * recall / (precision + recall)\n",
    "    scores.append(acc)\n",
    "    recalls.append(recall)\n",
    "    precisions.append(precision)\n",
    "    f1.append(F1)\n",
    "    \n",
    "print(sum(scores)/len(scores))\n",
    "print(sum(recalls)/len(recalls))\n",
    "print(sum(precisions)/len(precisions))\n",
    "print(sum(f1)/len(f1))"
   ]
  },
  {
   "cell_type": "code",
   "execution_count": 48,
   "metadata": {},
   "outputs": [
    {
     "data": {
      "text/html": [
       "<div>\n",
       "<style scoped>\n",
       "    .dataframe tbody tr th:only-of-type {\n",
       "        vertical-align: middle;\n",
       "    }\n",
       "\n",
       "    .dataframe tbody tr th {\n",
       "        vertical-align: top;\n",
       "    }\n",
       "\n",
       "    .dataframe thead th {\n",
       "        text-align: right;\n",
       "    }\n",
       "</style>\n",
       "<table border=\"1\" class=\"dataframe\">\n",
       "  <thead>\n",
       "    <tr style=\"text-align: right;\">\n",
       "      <th></th>\n",
       "      <th>predictor</th>\n",
       "      <th>coef</th>\n",
       "    </tr>\n",
       "  </thead>\n",
       "  <tbody>\n",
       "    <tr>\n",
       "      <th>27</th>\n",
       "      <td>concave points_worst</td>\n",
       "      <td>2.031508</td>\n",
       "    </tr>\n",
       "    <tr>\n",
       "      <th>20</th>\n",
       "      <td>radius_worst</td>\n",
       "      <td>1.688426</td>\n",
       "    </tr>\n",
       "    <tr>\n",
       "      <th>21</th>\n",
       "      <td>texture_worst</td>\n",
       "      <td>1.597322</td>\n",
       "    </tr>\n",
       "    <tr>\n",
       "      <th>22</th>\n",
       "      <td>perimeter_worst</td>\n",
       "      <td>1.574019</td>\n",
       "    </tr>\n",
       "    <tr>\n",
       "      <th>7</th>\n",
       "      <td>concave points_mean</td>\n",
       "      <td>1.546819</td>\n",
       "    </tr>\n",
       "  </tbody>\n",
       "</table>\n",
       "</div>"
      ],
      "text/plain": [
       "               predictor      coef\n",
       "27  concave points_worst  2.031508\n",
       "20          radius_worst  1.688426\n",
       "21         texture_worst  1.597322\n",
       "22       perimeter_worst  1.574019\n",
       "7    concave points_mean  1.546819"
      ]
     },
     "execution_count": 48,
     "metadata": {},
     "output_type": "execute_result"
    }
   ],
   "source": [
    "def get_ranked_coefs(predictors, logistic_clf):\n",
    "    coefs = pd.DataFrame(\n",
    "        [[pred, coef] for pred, coef in zip(predictors, \n",
    "                                            logistic_clf.coef_[0])], \n",
    "        columns=['predictor', 'coef'])\n",
    "    coefs['abs'] = np.abs(coefs.coef)\n",
    "    coefs = coefs.sort_values('abs', ascending=False)\n",
    "    coefs = coefs.drop(['abs'], axis=1)\n",
    "    return coefs\n",
    "\n",
    "predictors = list(df.iloc[:,1:])\n",
    "coefs = get_ranked_coefs(predictors, model)\n",
    "coefs.head()"
   ]
  },
  {
   "cell_type": "code",
   "execution_count": 55,
   "metadata": {},
   "outputs": [],
   "source": [
    "def get_auc(target, preds):\n",
    "    fpr, tpr, _ = roc_curve(target, preds)\n",
    "    mod_auc = auc(fpr, tpr)\n",
    "    print('AUC:      ', mod_auc)\n",
    "    return { 'fpr': fpr, 'tpr': tpr, 'auc': mod_auc }"
   ]
  },
  {
   "cell_type": "code",
   "execution_count": 56,
   "metadata": {},
   "outputs": [],
   "source": [
    "def plot_roc(fpr, tpr):\n",
    "    plt.plot(fpr, tpr, 'k')\n",
    "    plt.plot([0, 1], [0, 1], 'r')\n",
    "    plt.xlabel('False Positive Rate (1 - Specificity)')\n",
    "    plt.ylabel('True Positive Rate (Sensitivity)')\n",
    "    plt.title('ROC Curve')"
   ]
  },
  {
   "cell_type": "code",
   "execution_count": 57,
   "metadata": {
    "scrolled": false
   },
   "outputs": [
    {
     "name": "stdout",
     "output_type": "stream",
     "text": [
      "AUC:       0.9499105545617172\n"
     ]
    },
    {
     "data": {
      "image/png": "[encoded data removed]",
      "text/plain": [
       "<Figure size 720x576 with 1 Axes>"
      ]
     },
     "metadata": {
      "needs_background": "light"
     },
     "output_type": "display_data"
    }
   ],
   "source": [
    "auc_metrics = get_auc(y_test, y_pred)\n",
    "plot_roc(auc_metrics['fpr'], auc_metrics['tpr'])"
   ]
  }
 ],
 "metadata": {
  "kernelspec": {
   "display_name": "Python 3",
   "language": "python",
   "name": "python3"
  },
  "language_info": {
   "codemirror_mode": {
    "name": "ipython",
    "version": 3
   },
   "file_extension": ".py",
   "mimetype": "text/x-python",
   "name": "python",
   "nbconvert_exporter": "python",
   "pygments_lexer": "ipython3",
   "version": "3.7.0"
  }
 },
 "nbformat": 4,
 "nbformat_minor": 2
}
