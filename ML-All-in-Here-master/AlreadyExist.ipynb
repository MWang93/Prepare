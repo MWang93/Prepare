{
 "cells": [
  {
   "cell_type": "markdown",
   "metadata": {},
   "source": [
    "Leetcode \"Max Beauty\", 202 "
   ]
  },
  {
   "cell_type": "code",
   "execution_count": 9,
   "metadata": {},
   "outputs": [
    {
     "name": "stdout",
     "output_type": "stream",
     "text": [
      "True\n"
     ]
    }
   ],
   "source": [
    "class Solution(object):\n",
    "    def isHappy(self, n):\n",
    "        mem = set()\n",
    "        while n != 1:\n",
    "            n = sum([int(i) ** 2 for i in str(n)])\n",
    "            if n in mem:\n",
    "                return False\n",
    "            else:\n",
    "                mem.add(n)\n",
    "        else:\n",
    "            return True\n",
    "s = Solution()\n",
    "print(s.isHappy(19))"
   ]
  },
  {
   "cell_type": "markdown",
   "metadata": {},
   "source": [
    "Input: 111144 --> Output: 3142 "
   ]
  },
  {
   "cell_type": "code",
   "execution_count": 12,
   "metadata": {},
   "outputs": [
    {
     "name": "stdout",
     "output_type": "stream",
     "text": [
      "3124\n"
     ]
    }
   ],
   "source": [
    "class Solution(object):\n",
    "    def helper(self, string):\n",
    "        s = []\n",
    "        r = {}\n",
    "        for i in string:\n",
    "            if i not in s:\n",
    "                r[i] = string.count(i)\n",
    "                s.append(i)\n",
    "        return r\n",
    "\n",
    "s = Solution()\n",
    "print(''.join(str(v)+i for i, v in s.helper('11144').items()))"
   ]
  },
  {
   "cell_type": "markdown",
   "metadata": {},
   "source": [
    "Leetcode \"Permutation\"\n",
    "https://leetcode.com/problemset/all/?search=Permutation"
   ]
  }
 ],
 "metadata": {
  "kernelspec": {
   "display_name": "Python 3",
   "language": "python",
   "name": "python3"
  },
  "language_info": {
   "codemirror_mode": {
    "name": "ipython",
    "version": 3
   },
   "file_extension": ".py",
   "mimetype": "text/x-python",
   "name": "python",
   "nbconvert_exporter": "python",
   "pygments_lexer": "ipython3",
   "version": "3.6.5"
  }
 },
 "nbformat": 4,
 "nbformat_minor": 2
}
